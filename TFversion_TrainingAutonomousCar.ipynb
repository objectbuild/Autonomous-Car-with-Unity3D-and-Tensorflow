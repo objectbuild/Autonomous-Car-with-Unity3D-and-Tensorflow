{
 "cells": [
  {
   "cell_type": "code",
   "execution_count": 2,
   "metadata": {},
   "outputs": [
    {
     "name": "stderr",
     "output_type": "stream",
     "text": [
      "C:\\ProgramData\\Anaconda3\\lib\\site-packages\\h5py\\__init__.py:36: FutureWarning: Conversion of the second argument of issubdtype from `float` to `np.floating` is deprecated. In future, it will be treated as `np.float64 == np.dtype(float).type`.\n",
      "  from ._conv import register_converters as _register_converters\n"
     ]
    }
   ],
   "source": [
    "import numpy as np\n",
    "import pandas as pd\n",
    "import tensorflow as tf\n",
    "import matplotlib.pyplot as plt\n",
    "import matplotlib.image as mpimg\n",
    "import cv2\n",
    "from sklearn.model_selection import train_test_split\n",
    "import os\n",
    "import time\n",
    "\n",
    "%matplotlib inline"
   ]
  },
  {
   "cell_type": "markdown",
   "metadata": {},
   "source": [
    "# Dataset "
   ]
  },
  {
   "cell_type": "code",
   "execution_count": 3,
   "metadata": {},
   "outputs": [],
   "source": [
    "CSV = \"TrainData.csv\"\n",
    "ImageDir = \"_TrainData\"\n",
    "np.random.seed(0)"
   ]
  },
  {
   "cell_type": "markdown",
   "metadata": {},
   "source": [
    "# Handling dataframe "
   ]
  },
  {
   "cell_type": "code",
   "execution_count": 4,
   "metadata": {},
   "outputs": [],
   "source": [
    "df = pd.read_csv(CSV)"
   ]
  },
  {
   "cell_type": "code",
   "execution_count": 5,
   "metadata": {},
   "outputs": [
    {
     "data": {
      "text/html": [
       "<div>\n",
       "<style scoped>\n",
       "    .dataframe tbody tr th:only-of-type {\n",
       "        vertical-align: middle;\n",
       "    }\n",
       "\n",
       "    .dataframe tbody tr th {\n",
       "        vertical-align: top;\n",
       "    }\n",
       "\n",
       "    .dataframe thead th {\n",
       "        text-align: right;\n",
       "    }\n",
       "</style>\n",
       "<table border=\"1\" class=\"dataframe\">\n",
       "  <thead>\n",
       "    <tr style=\"text-align: right;\">\n",
       "      <th></th>\n",
       "      <th>Left</th>\n",
       "      <th>Center</th>\n",
       "      <th>Right</th>\n",
       "      <th>Steering</th>\n",
       "      <th>Acceleration</th>\n",
       "      <th>Brake</th>\n",
       "      <th>Speed</th>\n",
       "      <th>Time</th>\n",
       "      <th>X</th>\n",
       "      <th>Y</th>\n",
       "      <th>Z</th>\n",
       "      <th>RX</th>\n",
       "      <th>RY</th>\n",
       "      <th>RZ</th>\n",
       "    </tr>\n",
       "  </thead>\n",
       "  <tbody>\n",
       "    <tr>\n",
       "      <th>0</th>\n",
       "      <td>left_2018_11_10_13_35_21_929.jpg</td>\n",
       "      <td>center_2018_11_10_13_35_21_929.jpg</td>\n",
       "      <td>right_2018_11_10_13_35_21_929.jpg</td>\n",
       "      <td>0.0</td>\n",
       "      <td>0.0</td>\n",
       "      <td>0.0</td>\n",
       "      <td>0</td>\n",
       "      <td>858.6843</td>\n",
       "      <td>15.51973</td>\n",
       "      <td>6.843736</td>\n",
       "      <td>109.0635</td>\n",
       "      <td>-0.002542</td>\n",
       "      <td>185.1764</td>\n",
       "      <td>0.000831</td>\n",
       "    </tr>\n",
       "    <tr>\n",
       "      <th>1</th>\n",
       "      <td>left_2018_11_10_13_35_21_996.jpg</td>\n",
       "      <td>center_2018_11_10_13_35_21_996.jpg</td>\n",
       "      <td>right_2018_11_10_13_35_21_996.jpg</td>\n",
       "      <td>0.0</td>\n",
       "      <td>0.0</td>\n",
       "      <td>0.0</td>\n",
       "      <td>0</td>\n",
       "      <td>858.7403</td>\n",
       "      <td>15.51973</td>\n",
       "      <td>6.843735</td>\n",
       "      <td>109.0635</td>\n",
       "      <td>-0.002546</td>\n",
       "      <td>185.1764</td>\n",
       "      <td>0.000816</td>\n",
       "    </tr>\n",
       "  </tbody>\n",
       "</table>\n",
       "</div>"
      ],
      "text/plain": [
       "                               Left                              Center  \\\n",
       "0  left_2018_11_10_13_35_21_929.jpg  center_2018_11_10_13_35_21_929.jpg   \n",
       "1  left_2018_11_10_13_35_21_996.jpg  center_2018_11_10_13_35_21_996.jpg   \n",
       "\n",
       "                               Right  Steering  Acceleration  Brake  Speed  \\\n",
       "0  right_2018_11_10_13_35_21_929.jpg       0.0           0.0    0.0      0   \n",
       "1  right_2018_11_10_13_35_21_996.jpg       0.0           0.0    0.0      0   \n",
       "\n",
       "       Time         X         Y         Z        RX        RY        RZ  \n",
       "0  858.6843  15.51973  6.843736  109.0635 -0.002542  185.1764  0.000831  \n",
       "1  858.7403  15.51973  6.843735  109.0635 -0.002546  185.1764  0.000816  "
      ]
     },
     "execution_count": 5,
     "metadata": {},
     "output_type": "execute_result"
    }
   ],
   "source": [
    "df.head(2)"
   ]
  },
  {
   "cell_type": "markdown",
   "metadata": {},
   "source": [
    "# Dataset Visualization"
   ]
  },
  {
   "cell_type": "code",
   "execution_count": 6,
   "metadata": {},
   "outputs": [
    {
     "name": "stdout",
     "output_type": "stream",
     "text": [
      "[[ -10   -9   -8   -7   -6   -5   -4   -3   -2   -1    0    1    2]\n",
      " [ 211    1    1   35  209  153  258  355  666 1827 6549  344   66]]\n"
     ]
    }
   ],
   "source": [
    "visualY = df['Steering']\n",
    "visualY = visualY * 10\n",
    "visualY = np.asarray(visualY, dtype= np.int32)\n",
    "unique, count = np.unique(visualY, return_counts =True)\n",
    "print(np.asarray((unique, count)))"
   ]
  },
  {
   "cell_type": "code",
   "execution_count": 7,
   "metadata": {},
   "outputs": [
    {
     "data": {
      "image/png": "[encoded data removed]",
      "text/plain": [
       "<Figure size 432x288 with 1 Axes>"
      ]
     },
     "metadata": {},
     "output_type": "display_data"
    }
   ],
   "source": [
    "plt.bar(unique,count)\n",
    "plt.show()"
   ]
  },
  {
   "cell_type": "code",
   "execution_count": 8,
   "metadata": {},
   "outputs": [],
   "source": [
    "tempSet = df.loc[df['Steering'] <= -.2]"
   ]
  },
  {
   "cell_type": "code",
   "execution_count": 9,
   "metadata": {},
   "outputs": [
    {
     "data": {
      "text/plain": [
       "pandas.core.frame.DataFrame"
      ]
     },
     "execution_count": 9,
     "metadata": {},
     "output_type": "execute_result"
    }
   ],
   "source": [
    "frames = [df, tempSet, tempSet,tempSet ,tempSet]\n",
    "df = pd.concat(frames)\n",
    "type(df)"
   ]
  },
  {
   "cell_type": "code",
   "execution_count": 10,
   "metadata": {},
   "outputs": [
    {
     "name": "stdout",
     "output_type": "stream",
     "text": [
      "[[ -10   -9   -8   -7   -6   -5   -4   -3   -2   -1    0    1    2]\n",
      " [1055    5    5  175 1045  765 1290 1775 3330 1827 6549  344   66]]\n"
     ]
    }
   ],
   "source": [
    "visualY = df['Steering']\n",
    "visualY = visualY * 10\n",
    "visualY = np.asarray(visualY, dtype= np.int32)\n",
    "unique, count = np.unique(visualY, return_counts =True)\n",
    "print(np.asarray((unique, count)))"
   ]
  },
  {
   "cell_type": "code",
   "execution_count": 11,
   "metadata": {},
   "outputs": [
    {
     "data": {
      "image/png": "[encoded data removed]",
      "text/plain": [
       "<Figure size 432x288 with 1 Axes>"
      ]
     },
     "metadata": {},
     "output_type": "display_data"
    }
   ],
   "source": [
    "plt.bar(unique,count)\n",
    "plt.show()"
   ]
  },
  {
   "cell_type": "code",
   "execution_count": 12,
   "metadata": {},
   "outputs": [],
   "source": [
    "tempSet = df.loc[df['Steering'] < -.5]\n",
    "tempSetPos = df.loc[df['Steering'] > 0]"
   ]
  },
  {
   "cell_type": "code",
   "execution_count": 13,
   "metadata": {},
   "outputs": [
    {
     "name": "stdout",
     "output_type": "stream",
     "text": [
      "[[  -10    -9    -8    -7    -6    -5    -4    -3    -2    -1     0     1\n",
      "      2]\n",
      " [ 4220    20    20   700  4180  2865  1290  1775  3330  1827 16617  1720\n",
      "    330]]\n"
     ]
    }
   ],
   "source": [
    "frames = [df, tempSet,tempSetPos, tempSet,tempSetPos,tempSetPos,tempSetPos,tempSet]\n",
    "df = pd.concat(frames)\n",
    "visualY = df['Steering']\n",
    "visualY = visualY * 10\n",
    "visualY = np.asarray(visualY, dtype= np.int32)\n",
    "unique, count = np.unique(visualY, return_counts =True)\n",
    "print(np.asarray((unique, count)))"
   ]
  },
  {
   "cell_type": "code",
   "execution_count": 14,
   "metadata": {},
   "outputs": [],
   "source": [
    "X = df[['Left','Center','Right']]\n",
    "Y = df['Steering']"
   ]
  },
  {
   "cell_type": "code",
   "execution_count": 15,
   "metadata": {},
   "outputs": [
    {
     "data": {
      "image/png": "[encoded data removed]",
      "text/plain": [
       "<Figure size 432x288 with 1 Axes>"
      ]
     },
     "metadata": {},
     "output_type": "display_data"
    }
   ],
   "source": [
    "plt.bar(unique,count)\n",
    "plt.show()"
   ]
  },
  {
   "cell_type": "code",
   "execution_count": 16,
   "metadata": {},
   "outputs": [
    {
     "data": {
      "text/plain": [
       "((38894, 3), (38894,))"
      ]
     },
     "execution_count": 16,
     "metadata": {},
     "output_type": "execute_result"
    }
   ],
   "source": [
    "X = X.values\n",
    "Y = Y.values\n",
    "X.shape, Y.shape\n"
   ]
  },
  {
   "cell_type": "markdown",
   "metadata": {},
   "source": [
    "# Train test set"
   ]
  },
  {
   "cell_type": "code",
   "execution_count": 17,
   "metadata": {},
   "outputs": [],
   "source": [
    "X_train, X_test, y_train, y_test = train_test_split(X,Y, test_size =0.2, random_state = None, shuffle = True)"
   ]
  },
  {
   "cell_type": "code",
   "execution_count": 18,
   "metadata": {},
   "outputs": [
    {
     "data": {
      "text/plain": [
       "((31115, 3), (31115,))"
      ]
     },
     "execution_count": 18,
     "metadata": {},
     "output_type": "execute_result"
    }
   ],
   "source": [
    "X_train.shape, y_train.shape"
   ]
  },
  {
   "cell_type": "code",
   "execution_count": 19,
   "metadata": {},
   "outputs": [
    {
     "data": {
      "text/plain": [
       "((7779, 3), (7779,))"
      ]
     },
     "execution_count": 19,
     "metadata": {},
     "output_type": "execute_result"
    }
   ],
   "source": [
    "X_test.shape, y_test.shape"
   ]
  },
  {
   "cell_type": "markdown",
   "metadata": {},
   "source": [
    "# Image details"
   ]
  },
  {
   "cell_type": "code",
   "execution_count": 20,
   "metadata": {},
   "outputs": [],
   "source": [
    "height = 32\n",
    "width = 32\n",
    "channel = 3"
   ]
  },
  {
   "cell_type": "markdown",
   "metadata": {},
   "source": [
    "# Common functions"
   ]
  },
  {
   "cell_type": "code",
   "execution_count": 21,
   "metadata": {},
   "outputs": [],
   "source": [
    "def readImage(imageName):\n",
    "    global ImageDir\n",
    "    return mpimg.imread(os.path.join(ImageDir, imageName.strip()))"
   ]
  },
  {
   "cell_type": "code",
   "execution_count": 22,
   "metadata": {},
   "outputs": [],
   "source": [
    "def getTrainBatch(batchSize,X,Y, isTraining):\n",
    "    global height, width, channel\n",
    "    \n",
    " \n",
    "    indexRange = np.random.permutation(X.shape[0])\n",
    "    \n",
    "    currentIndex =0 \n",
    "    \n",
    "    images  = np.empty(shape =[batchSize, height,width,channel], dtype=np.float32)\n",
    "    steer =  np.empty(shape = [batchSize,1],dtype=np.float32)\n",
    "    \n",
    "    for index in indexRange:\n",
    "        \n",
    "        \n",
    "        if isTraining:\n",
    "            choiceIndex = np.random.choice(3)\n",
    "            _image = imageResize(readImage(X[index][choiceIndex]))\n",
    "            \n",
    "            if choiceIndex ==0:\n",
    "                steer[currentIndex] = (Y[index] + 0.2)\n",
    "            elif choiceIndex ==1:\n",
    "                steer[currentIndex] = Y[index]\n",
    "            else:\n",
    "                steer[currentIndex] = (Y[index] - 0.2)\n",
    "        \n",
    "        else:\n",
    "            _image= imageResize(readImage(X[index][1]))\n",
    "            steer[currentIndex] = Y[index]\n",
    "            \n",
    "            \n",
    "            \n",
    "        \n",
    "        images[currentIndex] = (_image/127.5) -1 \n",
    "        \n",
    "        \n",
    "        \n",
    "        currentIndex = currentIndex+1\n",
    "        if currentIndex == batchSize:\n",
    "            break\n",
    "        \n",
    "    return images,steer\n",
    "        \n",
    "    "
   ]
  },
  {
   "cell_type": "code",
   "execution_count": 23,
   "metadata": {},
   "outputs": [],
   "source": [
    "def imageResize(image):\n",
    "    global height, width\n",
    "    return cv2.resize(image, (width, height), cv2.INTER_AREA)"
   ]
  },
  {
   "cell_type": "markdown",
   "metadata": {},
   "source": [
    "# Graph Parameters"
   ]
  },
  {
   "cell_type": "code",
   "execution_count": 24,
   "metadata": {},
   "outputs": [],
   "source": [
    "conv1_filters = 32\n",
    "conv1_kSize = 5\n",
    "conv1_strides = 1\n",
    "conv1_padding = 'SAME'"
   ]
  },
  {
   "cell_type": "code",
   "execution_count": 25,
   "metadata": {},
   "outputs": [],
   "source": [
    "conv2_filters = 32\n",
    "conv2_kSize = 5\n",
    "conv2_strides = 2\n",
    "conv2_padding = 'SAME'"
   ]
  },
  {
   "cell_type": "code",
   "execution_count": 26,
   "metadata": {},
   "outputs": [],
   "source": [
    "conv3_filters = 64\n",
    "conv3_kSize = 5\n",
    "conv3_strides = 2\n",
    "conv3_padding = 'SAME'"
   ]
  },
  {
   "cell_type": "code",
   "execution_count": 27,
   "metadata": {},
   "outputs": [],
   "source": [
    "conv4_filters = 64\n",
    "conv4_kSize = 3\n",
    "conv4_strides = 2\n",
    "conv4_padding = 'SAME'"
   ]
  },
  {
   "cell_type": "code",
   "execution_count": 28,
   "metadata": {},
   "outputs": [],
   "source": [
    "conv5_filters = 64\n",
    "conv5_kSize = 3\n",
    "conv5_strides = 1\n",
    "conv5_padding = 'SAME'"
   ]
  },
  {
   "cell_type": "code",
   "execution_count": 29,
   "metadata": {},
   "outputs": [],
   "source": [
    "dense1_filter = 1000"
   ]
  },
  {
   "cell_type": "code",
   "execution_count": 30,
   "metadata": {},
   "outputs": [],
   "source": [
    "dense2_filter = 128"
   ]
  },
  {
   "cell_type": "code",
   "execution_count": 31,
   "metadata": {},
   "outputs": [],
   "source": [
    "output_unit = 1"
   ]
  },
  {
   "cell_type": "code",
   "execution_count": 32,
   "metadata": {},
   "outputs": [],
   "source": [
    "tf.reset_default_graph()"
   ]
  },
  {
   "cell_type": "markdown",
   "metadata": {},
   "source": [
    "# Placeholders"
   ]
  },
  {
   "cell_type": "code",
   "execution_count": 33,
   "metadata": {},
   "outputs": [
    {
     "data": {
      "text/plain": [
       "(<tf.Tensor 'X_Placeholder:0' shape=(?, 32, 32, 3) dtype=float32>,\n",
       " <tf.Tensor 'Y_Placeholder:0' shape=(?, 1) dtype=float32>)"
      ]
     },
     "execution_count": 33,
     "metadata": {},
     "output_type": "execute_result"
    }
   ],
   "source": [
    "X = tf.placeholder(tf.float32, shape=[None, height, width, channel], name = 'X_Placeholder')\n",
    "Y = tf.placeholder(tf.float32, shape=[None,1], name = 'Y_Placeholder')\n",
    "X, Y"
   ]
  },
  {
   "cell_type": "markdown",
   "metadata": {},
   "source": [
    "## Graph"
   ]
  },
  {
   "cell_type": "code",
   "execution_count": 34,
   "metadata": {},
   "outputs": [
    {
     "data": {
      "text/plain": [
       "<tf.Tensor 'conv2d/BiasAdd:0' shape=(?, 32, 32, 32) dtype=float32>"
      ]
     },
     "execution_count": 34,
     "metadata": {},
     "output_type": "execute_result"
    }
   ],
   "source": [
    "conv1 = tf.layers.conv2d(inputs = X, filters = conv1_filters, kernel_size = conv1_kSize, strides = conv1_strides, padding = conv1_padding)\n",
    "conv1"
   ]
  },
  {
   "cell_type": "code",
   "execution_count": 35,
   "metadata": {},
   "outputs": [
    {
     "data": {
      "text/plain": [
       "<tf.Tensor 'conv2d_1/BiasAdd:0' shape=(?, 16, 16, 32) dtype=float32>"
      ]
     },
     "execution_count": 35,
     "metadata": {},
     "output_type": "execute_result"
    }
   ],
   "source": [
    "conv2 = tf.layers.conv2d(inputs = conv1, filters = conv2_filters, kernel_size = conv2_kSize, strides = conv2_strides, padding = conv2_padding)\n",
    "conv2"
   ]
  },
  {
   "cell_type": "code",
   "execution_count": 36,
   "metadata": {},
   "outputs": [
    {
     "data": {
      "text/plain": [
       "<tf.Tensor 'conv2d_2/BiasAdd:0' shape=(?, 8, 8, 64) dtype=float32>"
      ]
     },
     "execution_count": 36,
     "metadata": {},
     "output_type": "execute_result"
    }
   ],
   "source": [
    "conv3 = tf.layers.conv2d(inputs = conv2, filters = conv3_filters, kernel_size = conv3_kSize, strides = conv3_strides, padding = conv3_padding)\n",
    "conv3"
   ]
  },
  {
   "cell_type": "code",
   "execution_count": 37,
   "metadata": {},
   "outputs": [
    {
     "data": {
      "text/plain": [
       "<tf.Tensor 'conv4/BiasAdd:0' shape=(?, 4, 4, 64) dtype=float32>"
      ]
     },
     "execution_count": 37,
     "metadata": {},
     "output_type": "execute_result"
    }
   ],
   "source": [
    "conv4 = tf.layers.conv2d(inputs = conv3, filters = conv4_filters, kernel_size = conv4_kSize, strides = conv4_strides, padding = conv4_padding, name=\"conv4\")\n",
    "conv4"
   ]
  },
  {
   "cell_type": "code",
   "execution_count": 38,
   "metadata": {},
   "outputs": [
    {
     "data": {
      "text/plain": [
       "<tf.Tensor 'conv5/BiasAdd:0' shape=(?, 4, 4, 64) dtype=float32>"
      ]
     },
     "execution_count": 38,
     "metadata": {},
     "output_type": "execute_result"
    }
   ],
   "source": [
    "conv5 = tf.layers.conv2d(inputs = conv4, filters = conv5_filters, kernel_size = conv5_kSize, strides = conv5_strides, padding = conv5_padding, name=\"conv5\")\n",
    "conv5"
   ]
  },
  {
   "cell_type": "code",
   "execution_count": 39,
   "metadata": {},
   "outputs": [
    {
     "data": {
      "text/plain": [
       "<tf.Tensor 'Reshape:0' shape=(?, 1024) dtype=float32>"
      ]
     },
     "execution_count": 39,
     "metadata": {},
     "output_type": "execute_result"
    }
   ],
   "source": [
    "flatten = tf.reshape(conv5, shape =[-1, conv5.shape[1].value * conv5.shape[2].value * conv5.shape[3].value])\n",
    "flatten"
   ]
  },
  {
   "cell_type": "code",
   "execution_count": 40,
   "metadata": {},
   "outputs": [
    {
     "data": {
      "text/plain": [
       "<tf.Tensor 'dense/Elu:0' shape=(?, 1000) dtype=float32>"
      ]
     },
     "execution_count": 40,
     "metadata": {},
     "output_type": "execute_result"
    }
   ],
   "source": [
    "dense1 = tf.layers.dense(inputs = flatten, units = dense1_filter, activation = tf.nn.elu)\n",
    "dense1"
   ]
  },
  {
   "cell_type": "code",
   "execution_count": 41,
   "metadata": {},
   "outputs": [
    {
     "data": {
      "text/plain": [
       "<tf.Tensor 'dense_1/Elu:0' shape=(?, 128) dtype=float32>"
      ]
     },
     "execution_count": 41,
     "metadata": {},
     "output_type": "execute_result"
    }
   ],
   "source": [
    "dense2 =tf.layers.dense(inputs = dense1, units = dense2_filter, activation = tf.nn.elu)\n",
    "dense2"
   ]
  },
  {
   "cell_type": "code",
   "execution_count": 42,
   "metadata": {},
   "outputs": [
    {
     "data": {
      "text/plain": [
       "<tf.Tensor 'dense_2/BiasAdd:0' shape=(?, 1) dtype=float32>"
      ]
     },
     "execution_count": 42,
     "metadata": {},
     "output_type": "execute_result"
    }
   ],
   "source": [
    "output = tf.layers.dense(inputs = dense2, units = output_unit)\n",
    "output"
   ]
  },
  {
   "cell_type": "code",
   "execution_count": 43,
   "metadata": {},
   "outputs": [
    {
     "data": {
      "text/plain": [
       "(TensorShape([Dimension(None), Dimension(1)]),\n",
       " TensorShape([Dimension(None), Dimension(1)]))"
      ]
     },
     "execution_count": 43,
     "metadata": {},
     "output_type": "execute_result"
    }
   ],
   "source": [
    "Y.shape, output.shape"
   ]
  },
  {
   "cell_type": "code",
   "execution_count": 44,
   "metadata": {},
   "outputs": [],
   "source": [
    "loss = tf.losses.mean_squared_error(labels = Y, predictions = output)"
   ]
  },
  {
   "cell_type": "code",
   "execution_count": 45,
   "metadata": {},
   "outputs": [],
   "source": [
    "optimizer = tf.train.AdamOptimizer()"
   ]
  },
  {
   "cell_type": "code",
   "execution_count": 46,
   "metadata": {},
   "outputs": [],
   "source": [
    "train = optimizer.minimize(loss)"
   ]
  },
  {
   "cell_type": "code",
   "execution_count": 47,
   "metadata": {},
   "outputs": [],
   "source": [
    "saver = tf.train.Saver()"
   ]
  },
  {
   "cell_type": "code",
   "execution_count": 48,
   "metadata": {},
   "outputs": [],
   "source": [
    "init = tf.global_variables_initializer()"
   ]
  },
  {
   "cell_type": "markdown",
   "metadata": {},
   "source": [
    "# Hyperparameters"
   ]
  },
  {
   "cell_type": "code",
   "execution_count": 49,
   "metadata": {},
   "outputs": [
    {
     "data": {
      "text/plain": [
       "972"
      ]
     },
     "execution_count": 49,
     "metadata": {},
     "output_type": "execute_result"
    }
   ],
   "source": [
    "totalEpochs = 10\n",
    "batchSize = 32\n",
    "totalSets = (int)(len(X_train)/ batchSize)\n",
    "\n",
    "\n",
    "totalSets"
   ]
  },
  {
   "cell_type": "code",
   "execution_count": 50,
   "metadata": {},
   "outputs": [],
   "source": [
    "#graphs\n",
    "TrainingLossArray = np.empty(shape=[totalEpochs],dtype = np.float32)\n",
    "TestLossArray = np.empty(shape=[totalEpochs],dtype = np.float32)\n"
   ]
  },
  {
   "cell_type": "markdown",
   "metadata": {},
   "source": [
    "# Training"
   ]
  },
  {
   "cell_type": "code",
   "execution_count": 52,
   "metadata": {},
   "outputs": [
    {
     "name": "stdout",
     "output_type": "stream",
     "text": [
      "Epoch 0 started.......................\n",
      "     Completed count 0 and Loss : 5.957803726196289\n",
      "     Completed count 100 and Loss : 0.03394746035337448\n",
      "     Completed count 200 and Loss : 0.03969404101371765\n",
      "     Completed count 300 and Loss : 0.03363872691988945\n",
      "     Completed count 400 and Loss : 0.018486790359020233\n",
      "     Completed count 500 and Loss : 0.037606559693813324\n",
      "     Completed count 600 and Loss : 0.029704757034778595\n",
      "     Completed count 700 and Loss : 0.014800004661083221\n",
      "     Completed count 800 and Loss : 0.025718403980135918\n",
      "     Completed count 900 and Loss : 0.011952178552746773\n",
      "     --------------------------------------------------------------------------------\n",
      "     Trainign loss 0.022728394716978073 \n",
      "     Test loss 0.02102157473564148 \n",
      "Model saved :  model/Model_15425395460637_____0\n",
      "Epoch 1 started.......................\n",
      "     Completed count 0 and Loss : 0.018008362501859665\n",
      "     Completed count 100 and Loss : 0.025861207395792007\n",
      "     Completed count 200 and Loss : 0.012491237372159958\n",
      "     Completed count 300 and Loss : 0.01675018109381199\n",
      "     Completed count 400 and Loss : 0.014935837127268314\n",
      "     Completed count 500 and Loss : 0.016359511762857437\n",
      "     Completed count 600 and Loss : 0.02713022381067276\n",
      "     Completed count 700 and Loss : 0.012450508773326874\n",
      "     Completed count 800 and Loss : 0.013137966394424438\n",
      "     Completed count 900 and Loss : 0.022013578563928604\n",
      "     --------------------------------------------------------------------------------\n",
      "     Trainign loss 0.02010934054851532 \n",
      "     Test loss 0.008556215092539787 \n",
      "Model saved :  model/Model_15425395460637_____1\n",
      "Epoch 2 started.......................\n",
      "     Completed count 0 and Loss : 0.024761663749814034\n",
      "     Completed count 100 and Loss : 0.017742976546287537\n",
      "     Completed count 200 and Loss : 0.014024957083165646\n",
      "     Completed count 300 and Loss : 0.013843515887856483\n",
      "     Completed count 400 and Loss : 0.01666743867099285\n",
      "     Completed count 500 and Loss : 0.015240740031003952\n",
      "     Completed count 600 and Loss : 0.018563304096460342\n",
      "     Completed count 700 and Loss : 0.014833538793027401\n",
      "     Completed count 800 and Loss : 0.020379208028316498\n",
      "     Completed count 900 and Loss : 0.016841385513544083\n",
      "     --------------------------------------------------------------------------------\n",
      "     Trainign loss 0.01233590766787529 \n",
      "     Test loss 0.012782157398760319 \n",
      "Model saved :  model/Model_15425395460637_____2\n",
      "Epoch 3 started.......................\n",
      "     Completed count 0 and Loss : 0.01000949926674366\n",
      "     Completed count 100 and Loss : 0.01622285135090351\n",
      "     Completed count 200 and Loss : 0.00921539030969143\n",
      "     Completed count 300 and Loss : 0.01390217524021864\n",
      "     Completed count 400 and Loss : 0.012011686339974403\n",
      "     Completed count 500 and Loss : 0.01210271567106247\n",
      "     Completed count 600 and Loss : 0.012698809616267681\n",
      "     Completed count 700 and Loss : 0.016898345202207565\n",
      "     Completed count 800 and Loss : 0.010021215304732323\n",
      "     Completed count 900 and Loss : 0.024219246581196785\n",
      "     --------------------------------------------------------------------------------\n",
      "     Trainign loss 0.011744080111384392 \n",
      "     Test loss 0.014946043491363525 \n",
      "Model saved :  model/Model_15425395460637_____3\n",
      "Epoch 4 started.......................\n",
      "     Completed count 0 and Loss : 0.012202995829284191\n",
      "     Completed count 100 and Loss : 0.006572953425347805\n",
      "     Completed count 200 and Loss : 0.01677410677075386\n",
      "     Completed count 300 and Loss : 0.010465624742209911\n",
      "     Completed count 400 and Loss : 0.010911883786320686\n",
      "     Completed count 500 and Loss : 0.019148729741573334\n",
      "     Completed count 600 and Loss : 0.008076565340161324\n",
      "     Completed count 700 and Loss : 0.010886328294873238\n",
      "     Completed count 800 and Loss : 0.01144014485180378\n",
      "     Completed count 900 and Loss : 0.012792317196726799\n",
      "     --------------------------------------------------------------------------------\n",
      "     Trainign loss 0.009549302980303764 \n",
      "     Test loss 0.00735051091760397 \n",
      "Model saved :  model/Model_15425395460637_____4\n",
      "Epoch 5 started.......................\n",
      "     Completed count 0 and Loss : 0.014001871459186077\n",
      "     Completed count 100 and Loss : 0.007088589947670698\n",
      "     Completed count 200 and Loss : 0.00874466821551323\n",
      "     Completed count 300 and Loss : 0.013246467337012291\n",
      "     Completed count 400 and Loss : 0.017277300357818604\n",
      "     Completed count 500 and Loss : 0.014141371473670006\n",
      "     Completed count 600 and Loss : 0.01178213395178318\n",
      "     Completed count 700 and Loss : 0.007392230909317732\n",
      "     Completed count 800 and Loss : 0.015902362763881683\n",
      "     Completed count 900 and Loss : 0.01170360017567873\n",
      "     --------------------------------------------------------------------------------\n",
      "     Trainign loss 0.010131200775504112 \n",
      "     Test loss 0.007869934663176537 \n",
      "Model saved :  model/Model_15425395460637_____5\n",
      "Epoch 6 started.......................\n",
      "     Completed count 0 and Loss : 0.013822907581925392\n",
      "     Completed count 100 and Loss : 0.009814513847231865\n",
      "     Completed count 200 and Loss : 0.011550010181963444\n",
      "     Completed count 300 and Loss : 0.015861298888921738\n",
      "     Completed count 400 and Loss : 0.0067636012099683285\n",
      "     Completed count 500 and Loss : 0.010816155932843685\n",
      "     Completed count 600 and Loss : 0.015764955431222916\n",
      "     Completed count 700 and Loss : 0.024696968495845795\n",
      "     Completed count 800 and Loss : 0.009034502319991589\n",
      "     Completed count 900 and Loss : 0.010379107668995857\n",
      "     --------------------------------------------------------------------------------\n",
      "     Trainign loss 0.011758310720324516 \n",
      "     Test loss 0.007323317229747772 \n",
      "Model saved :  model/Model_15425395460637_____6\n",
      "Epoch 7 started.......................\n",
      "     Completed count 0 and Loss : 0.009674912318587303\n",
      "     Completed count 100 and Loss : 0.00991353951394558\n",
      "     Completed count 200 and Loss : 0.021988237276673317\n",
      "     Completed count 300 and Loss : 0.008852913975715637\n",
      "     Completed count 400 and Loss : 0.011050541885197163\n",
      "     Completed count 500 and Loss : 0.0131304282695055\n",
      "     Completed count 600 and Loss : 0.009884987026453018\n",
      "     Completed count 700 and Loss : 0.0070093898102641106\n",
      "     Completed count 800 and Loss : 0.010978732258081436\n",
      "     Completed count 900 and Loss : 0.008886807598173618\n",
      "     --------------------------------------------------------------------------------\n",
      "     Trainign loss 0.01353539526462555 \n",
      "     Test loss 0.0217283945530653 \n",
      "Model saved :  model/Model_15425395460637_____7\n",
      "Epoch 8 started.......................\n",
      "     Completed count 0 and Loss : 0.008982986211776733\n",
      "     Completed count 100 and Loss : 0.010816440917551517\n",
      "     Completed count 200 and Loss : 0.00935292337089777\n",
      "     Completed count 300 and Loss : 0.009537456557154655\n",
      "     Completed count 400 and Loss : 0.0074629876762628555\n",
      "     Completed count 500 and Loss : 0.01001269742846489\n",
      "     Completed count 600 and Loss : 0.012569618411362171\n",
      "     Completed count 700 and Loss : 0.00762396352365613\n",
      "     Completed count 800 and Loss : 0.012749603018164635\n",
      "     Completed count 900 and Loss : 0.0074554854072630405\n",
      "     --------------------------------------------------------------------------------\n",
      "     Trainign loss 0.010573378764092922 \n",
      "     Test loss 0.015552621334791183 \n",
      "Model saved :  model/Model_15425395460637_____8\n",
      "Epoch 9 started.......................\n",
      "     Completed count 0 and Loss : 0.006878113839775324\n",
      "     Completed count 100 and Loss : 0.007174311671406031\n",
      "     Completed count 200 and Loss : 0.014582308009266853\n",
      "     Completed count 300 and Loss : 0.009218496270477772\n",
      "     Completed count 400 and Loss : 0.007633640430867672\n",
      "     Completed count 500 and Loss : 0.007256672717630863\n",
      "     Completed count 600 and Loss : 0.01507255993783474\n",
      "     Completed count 700 and Loss : 0.008994203060865402\n",
      "     Completed count 800 and Loss : 0.009660067036747932\n",
      "     Completed count 900 and Loss : 0.007024089805781841\n",
      "     --------------------------------------------------------------------------------\n",
      "     Trainign loss 0.006193377077579498 \n",
      "     Test loss 0.010820752941071987 \n",
      "Model saved :  model/Model_15425395460637_____9\n",
      "     Test loss 0.010033893398940563\n"
     ]
    },
    {
     "name": "stdout",
     "output_type": "stream",
     "text": [
      "Completed\n"
     ]
    }
   ],
   "source": [
    "a = (int)(time.time() * 10000) + np.random.randint(100,size=1)\n",
    "\n",
    "\n",
    "with tf.Session() as sess:\n",
    "    sess.run(init)\n",
    "    \n",
    "    \n",
    "    \n",
    "    \n",
    "    for epoch in range(totalEpochs):\n",
    "        \n",
    "        currentIndex = 0\n",
    "        print(\"Epoch {0} started.......................\".format(epoch))\n",
    "        \n",
    "        for index in range(totalSets):\n",
    "            x, y = getTrainBatch(batchSize, X_train, y_train, True)\n",
    "            sess.run(train,feed_dict = {X:x, Y:y})\n",
    "            _loss = sess.run(loss,feed_dict = {X:x, Y:y})\n",
    "            if index % 100 == 0:\n",
    "                print(\"     Completed count {0} and Loss : {1}\".format(index,_loss))\n",
    "                \n",
    "        print(\"     --------------------------------------------------------------------------------\")        \n",
    "        print(\"     Trainign loss {0} \".format(_loss))\n",
    "        TrainingLossArray[epoch] = _loss\n",
    "        \n",
    "        x, y = getTrainBatch(batchSize, X_test, y_test, False)\n",
    "        _loss = sess.run(loss,feed_dict = {X:x, Y:y})\n",
    "        print(\"     Test loss {0} \".format(_loss))\n",
    "        TestLossArray[epoch] = _loss\n",
    "        modelName = \"model/Model_\" + str(a[0]) +\"_____\" + str(epoch)\n",
    "        saver.save(sess,modelName)\n",
    "        print(\"Model saved : \", modelName)\n",
    "        \n",
    " \n",
    "    x, y = getTrainBatch(1000, X_test, y_test, False)\n",
    "    _yPred = sess.run(output,feed_dict = {X:x, Y:y}) \n",
    "    _loss = sess.run(loss,feed_dict = {X:x, Y:y})\n",
    "    \n",
    "    \n",
    "    print(\"     Test loss {0}\".format(_loss))\n",
    "    \n",
    "    \n",
    "    saver.save(sess,modelName)\n",
    "        \n",
    "        \n",
    "    print(\"Completed\")\n",
    "    "
   ]
  },
  {
   "cell_type": "markdown",
   "metadata": {},
   "source": [
    "# Training loss "
   ]
  },
  {
   "cell_type": "code",
   "execution_count": 54,
   "metadata": {},
   "outputs": [
    {
     "data": {
      "image/png": "[encoded data removed]",
      "text/plain": [
       "<Figure size 432x288 with 1 Axes>"
      ]
     },
     "metadata": {},
     "output_type": "display_data"
    }
   ],
   "source": [
    "_trainLoss = np.around(TrainingLossArray, decimals=4)\n",
    "_testLoss = np.around(TestLossArray, decimals=4)\n",
    "line1, = plt.plot(_trainLoss, label='Train loss')\n",
    "line2, = plt.plot(_testLoss, label='Test loss')\n",
    "first_legend = plt.legend(handles=[line1], loc =1)\n",
    "ax = plt.gca().add_artist(first_legend)\n",
    "plt.legend(handles=[line2], loc =4)\n",
    "plt.show()"
   ]
  },
  {
   "cell_type": "code",
   "execution_count": 55,
   "metadata": {},
   "outputs": [
    {
     "data": {
      "image/png": "[encoded data removed]",
      "text/plain": [
       "<Figure size 432x288 with 1 Axes>"
      ]
     },
     "metadata": {},
     "output_type": "display_data"
    }
   ],
   "source": [
    "startPoint = 70\n",
    "line1, =  plt.plot(y[startPoint:startPoint+35], label='True value')\n",
    "line2, =  plt.plot(_yPred[startPoint:startPoint+35],label='Pred value')\n",
    "first_legend = plt.legend(handles=[line1], loc =1)\n",
    "ax = plt.gca().add_artist(first_legend)\n",
    "plt.legend(handles=[line2], loc =4)\n",
    "plt.savefig(\"graph1.jpg\")\n"
   ]
  },
  {
   "cell_type": "code",
   "execution_count": 36,
   "metadata": {},
   "outputs": [
    {
     "data": {
      "text/plain": [
       "<matplotlib.image.AxesImage at 0x1abfb598160>"
      ]
     },
     "execution_count": 36,
     "metadata": {},
     "output_type": "execute_result"
    },
    {
     "data": {
      "image/png": "[encoded data removed]",
      "text/plain": [
       "<Figure size 432x288 with 1 Axes>"
      ]
     },
     "metadata": {},
     "output_type": "display_data"
    }
   ],
   "source": [
    "plt.imshow(imageResize(readImage(X_train[900][0])))"
   ]
  },
  {
   "cell_type": "code",
   "execution_count": 32,
   "metadata": {},
   "outputs": [
    {
     "ename": "NameError",
     "evalue": "name 'a' is not defined",
     "output_type": "error",
     "traceback": [
      "\u001b[1;31m---------------------------------------------------------------------------\u001b[0m",
      "\u001b[1;31mNameError\u001b[0m                                 Traceback (most recent call last)",
      "\u001b[1;32m<ipython-input-32-d74f1bcdd37c>\u001b[0m in \u001b[0;36m<module>\u001b[1;34m()\u001b[0m\n\u001b[1;32m----> 1\u001b[1;33m \u001b[0ma\u001b[0m\u001b[1;33m.\u001b[0m\u001b[0mshape\u001b[0m\u001b[1;33m\u001b[0m\u001b[0m\n\u001b[0m",
      "\u001b[1;31mNameError\u001b[0m: name 'a' is not defined"
     ]
    }
   ],
   "source": [
    "a.shape"
   ]
  },
  {
   "cell_type": "code",
   "execution_count": null,
   "metadata": {},
   "outputs": [],
   "source": [
    "b.shape"
   ]
  },
  {
   "cell_type": "code",
   "execution_count": null,
   "metadata": {},
   "outputs": [],
   "source": []
  }
 ],
 "metadata": {
  "kernelspec": {
   "display_name": "Python 3",
   "language": "python",
   "name": "python3"
  },
  "language_info": {
   "codemirror_mode": {
    "name": "ipython",
    "version": 3
   },
   "file_extension": ".py",
   "mimetype": "text/x-python",
   "name": "python",
   "nbconvert_exporter": "python",
   "pygments_lexer": "ipython3",
   "version": "3.6.4"
  }
 },
 "nbformat": 4,
 "nbformat_minor": 2
}
