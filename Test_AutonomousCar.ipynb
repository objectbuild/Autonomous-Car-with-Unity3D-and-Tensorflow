{
 "cells": [
  {
   "cell_type": "code",
   "execution_count": 1,
   "metadata": {},
   "outputs": [
    {
     "name": "stderr",
     "output_type": "stream",
     "text": [
      "C:\\ProgramData\\Anaconda3\\lib\\site-packages\\h5py\\__init__.py:36: FutureWarning: Conversion of the second argument of issubdtype from `float` to `np.floating` is deprecated. In future, it will be treated as `np.float64 == np.dtype(float).type`.\n",
      "  from ._conv import register_converters as _register_converters\n"
     ]
    }
   ],
   "source": [
    "import numpy as np\n",
    "import eventlet\n",
    "import tensorflow as tf\n",
    "import socketio\n",
    "import cv2\n",
    "import eventlet.wsgi\n",
    "from flask import Flask\n",
    "from PIL import Image\n",
    "import base64\n",
    "from io import BytesIO\n",
    "import os\n",
    "\n",
    "%matplotlib inline"
   ]
  },
  {
   "cell_type": "markdown",
   "metadata": {},
   "source": [
    "# Image details"
   ]
  },
  {
   "cell_type": "code",
   "execution_count": 2,
   "metadata": {},
   "outputs": [],
   "source": [
    "height = 32\n",
    "width = 32\n",
    "channel = 3"
   ]
  },
  {
   "cell_type": "code",
   "execution_count": 3,
   "metadata": {},
   "outputs": [],
   "source": [
    "def readImage(imageName):\n",
    "    global ImageDir\n",
    "    return mpimg.imread(os.path.join(ImageDir, imageName.strip()))"
   ]
  },
  {
   "cell_type": "code",
   "execution_count": 4,
   "metadata": {},
   "outputs": [],
   "source": [
    "def getInputValues(image):\n",
    "    global height, width, channel\n",
    "        \n",
    "    images  = np.empty(shape =[1, height,width,channel], dtype=np.float32)\n",
    "    \n",
    "    _image= imageResize(image)\n",
    "    \n",
    "    images[0] = (_image/127.5) -1 \n",
    "        \n",
    "    return images\n",
    "        \n",
    "    "
   ]
  },
  {
   "cell_type": "code",
   "execution_count": 5,
   "metadata": {},
   "outputs": [],
   "source": [
    "def imageResize(image):\n",
    "    global height, width\n",
    "    return cv2.resize(image, (width, height), cv2.INTER_AREA)"
   ]
  },
  {
   "cell_type": "code",
   "execution_count": 6,
   "metadata": {},
   "outputs": [
    {
     "name": "stdout",
     "output_type": "stream",
     "text": [
      "INFO:tensorflow:Restoring parameters from model\\Model_15425395460637_____9\n"
     ]
    }
   ],
   "source": [
    "sess = tf.Session()\n",
    "saver = tf.train.import_meta_graph(\"model/Model_15425395460637_____9.meta\")\n",
    "saver.restore(sess, tf.train.latest_checkpoint('model'))\n",
    "graph = tf.get_default_graph()\n",
    "    \n",
    "Xplace = graph.get_tensor_by_name(\"X_Placeholder:0\")\n",
    "output = graph.get_tensor_by_name(\"dense_2/BiasAdd:0\")\n",
    " "
   ]
  },
  {
   "cell_type": "code",
   "execution_count": 7,
   "metadata": {},
   "outputs": [],
   "source": [
    "def predictValue(image):\n",
    "    x = getInputValues(image)\n",
    "    _yPred = sess.run(output,feed_dict = {Xplace:x})        \n",
    "    return _yPred"
   ]
  },
  {
   "cell_type": "markdown",
   "metadata": {},
   "source": [
    "# Server "
   ]
  },
  {
   "cell_type": "code",
   "execution_count": 8,
   "metadata": {},
   "outputs": [],
   "source": [
    "sio = socketio.Server()"
   ]
  },
  {
   "cell_type": "code",
   "execution_count": 9,
   "metadata": {},
   "outputs": [],
   "source": [
    "app = Flask(__name__)"
   ]
  },
  {
   "cell_type": "code",
   "execution_count": 10,
   "metadata": {},
   "outputs": [],
   "source": [
    "@sio.on('telemetry')\n",
    "def telemetry(sid, data):    \n",
    "\n",
    "    image = Image.open(BytesIO(base64.b64decode(data[\"image\"])))\n",
    "    try:\n",
    "        image = np.asarray(image)\n",
    "        temp = predictValue(image)\n",
    "        steering_angle =float(temp[0])  \n",
    "        print(steering_angle)\n",
    "        \n",
    "        send_control(steering_angle, 1)\n",
    "    except Exception as e:\n",
    "        print(e)"
   ]
  },
  {
   "cell_type": "code",
   "execution_count": 11,
   "metadata": {},
   "outputs": [],
   "source": [
    "@sio.on('connect')\n",
    "def connect(sid, environ):\n",
    "    send_control(0, 0)\n",
    "    print(\"connected\")"
   ]
  },
  {
   "cell_type": "code",
   "execution_count": 12,
   "metadata": {},
   "outputs": [],
   "source": [
    "def send_control(steering_angle, accelerator):  \n",
    "    sio.emit(\n",
    "        \"steer\",\n",
    "        data={\n",
    "            'steering_angle': steering_angle.__str__(),\n",
    "            'accelerator': accelerator.__str__()\n",
    "        },\n",
    "        skip_sid=True)"
   ]
  },
  {
   "cell_type": "code",
   "execution_count": null,
   "metadata": {},
   "outputs": [],
   "source": [
    "app = socketio.Middleware(sio, app) "
   ]
  },
  {
   "cell_type": "code",
   "execution_count": null,
   "metadata": {},
   "outputs": [
    {
     "name": "stderr",
     "output_type": "stream",
     "text": [
      "(5644) wsgi starting up on http://0.0.0.0:9876\n",
      "(5644) accepted ('127.0.0.1', 57640)\n"
     ]
    },
    {
     "name": "stdout",
     "output_type": "stream",
     "text": [
      "connected\n"
     ]
    },
    {
     "name": "stderr",
     "output_type": "stream",
     "text": [
      "127.0.0.1 - - [18/Nov/2018 17:09:02] \"GET /socket.io/?EIO=4&transport=websocket HTTP/1.1\" 200 0 757.422655\n"
     ]
    }
   ],
   "source": [
    "eventlet.wsgi.server(eventlet.listen(('', 9876)), app)"
   ]
  },
  {
   "cell_type": "code",
   "execution_count": null,
   "metadata": {},
   "outputs": [],
   "source": [
    "sess.close()"
   ]
  },
  {
   "cell_type": "code",
   "execution_count": null,
   "metadata": {},
   "outputs": [],
   "source": []
  }
 ],
 "metadata": {
  "kernelspec": {
   "display_name": "Python 3",
   "language": "python",
   "name": "python3"
  },
  "language_info": {
   "codemirror_mode": {
    "name": "ipython",
    "version": 3
   },
   "file_extension": ".py",
   "mimetype": "text/x-python",
   "name": "python",
   "nbconvert_exporter": "python",
   "pygments_lexer": "ipython3",
   "version": "3.6.4"
  }
 },
 "nbformat": 4,
 "nbformat_minor": 2
}
